{
 "cells": [
  {
   "cell_type": "code",
   "execution_count": 1,
   "id": "ab979e48",
   "metadata": {},
   "outputs": [],
   "source": [
    "import os\n",
    "import cv2\n",
    "import random\n",
    "import numpy as np\n",
    "from sklearn.metrics import accuracy_score,jaccard_score,f1_score\n",
    "import matplotlib.pyplot as plt"
   ]
  },
  {
   "cell_type": "code",
   "execution_count": 2,
   "id": "beb5387b",
   "metadata": {},
   "outputs": [
    {
     "name": "stdout",
     "output_type": "stream",
     "text": [
      "Requirement already satisfied: sklearn in c:\\users\\dhan0\\anaconda3\\lib\\site-packages (0.0)\n",
      "Requirement already satisfied: scikit-learn in c:\\users\\dhan0\\anaconda3\\lib\\site-packages (from sklearn) (0.24.2)\n",
      "Requirement already satisfied: joblib>=0.11 in c:\\users\\dhan0\\anaconda3\\lib\\site-packages (from scikit-learn->sklearn) (1.0.1)\n",
      "Requirement already satisfied: threadpoolctl>=2.0.0 in c:\\users\\dhan0\\anaconda3\\lib\\site-packages (from scikit-learn->sklearn) (2.2.0)\n",
      "Requirement already satisfied: scipy>=0.19.1 in c:\\users\\dhan0\\anaconda3\\lib\\site-packages (from scikit-learn->sklearn) (1.7.0)\n",
      "Requirement already satisfied: numpy>=1.13.3 in c:\\users\\dhan0\\anaconda3\\lib\\site-packages (from scikit-learn->sklearn) (1.21.0)\n",
      "Note: you may need to restart the kernel to use updated packages.\n"
     ]
    }
   ],
   "source": [
    "pip install sklearn"
   ]
  },
  {
   "cell_type": "code",
   "execution_count": 3,
   "id": "df06c3fb",
   "metadata": {},
   "outputs": [],
   "source": [
    "def white_presence(arr):\n",
    "    r, c = np.shape(arr)\n",
    "    flag = 0\n",
    "    for i in range(0,r):\n",
    "        for j in range(0,c):\n",
    "            if arr[i][j]==1:\n",
    "                flag = 1\n",
    "            break\n",
    "    return flag"
   ]
  },
  {
   "cell_type": "code",
   "execution_count": 259,
   "id": "b17a081e",
   "metadata": {},
   "outputs": [],
   "source": [
    "actual = cv2.imread(r\".\\current\\im7.jpg\",0)\n",
    "predicted = cv2.imread(r\".\\current\\pred7c.jpg\",0)"
   ]
  },
  {
   "cell_type": "code",
   "execution_count": 260,
   "id": "afdb0504",
   "metadata": {},
   "outputs": [
    {
     "data": {
      "text/plain": [
       "(448, 448)"
      ]
     },
     "execution_count": 260,
     "metadata": {},
     "output_type": "execute_result"
    }
   ],
   "source": [
    "np.shape(actual)"
   ]
  },
  {
   "cell_type": "code",
   "execution_count": 261,
   "id": "45b03288",
   "metadata": {},
   "outputs": [],
   "source": [
    "def white_presence(arr):\n",
    "    r, c = np.shape(arr)\n",
    "    flag = 0\n",
    "    for i in range(0,r):\n",
    "        for j in range(0,c):\n",
    "            if arr[i][j]==1:\n",
    "                flag = 1\n",
    "                break\n",
    "    return flag"
   ]
  },
  {
   "cell_type": "code",
   "execution_count": 262,
   "id": "e220ceda",
   "metadata": {},
   "outputs": [],
   "source": [
    "def region_f1(actual,predicted):\n",
    "    n_split = 8\n",
    "    n, p = np.shape(actual)\n",
    "    row = np.linspace(0,n,num = n_split,endpoint=False, dtype=int)\n",
    "    column = np.linspace(0,n,num = n_split,endpoint=False, dtype = int)\n",
    "    row = np.append(row,n)\n",
    "    column = np.append(column,n)\n",
    "\n",
    "    pooled_actual = np.zeros([n_split,n_split])\n",
    "    pooled_predicted = np.zeros([n_split,n_split])\n",
    "    for i in range(0,n_split):\n",
    "        for j in range(0,n_split):\n",
    "            sub_actual = actual[row[i]:row[i+1],column[j]:column[j+1]]\n",
    "            sub_predicted = predicted[row[i]:row[i+1],column[j]:column[j+1]]\n",
    "            a = white_presence(sub_actual)\n",
    "            b = white_presence(sub_predicted)\n",
    "            \n",
    "            if a==1 :\n",
    "                pooled_actual[i][j] = 1\n",
    "            else:\n",
    "                pooled_actual[i][j] = 0\n",
    "\n",
    "            if b==1:\n",
    "                pooled_predicted[i][j] = 1\n",
    "            else:\n",
    "                pooled_predicted[i][j] = 0\n",
    "              \n",
    "    f1 = f1_score(pooled_actual.flatten(), pooled_predicted.flatten(), zero_division=1)\n",
    "    return f1"
   ]
  },
  {
   "cell_type": "code",
   "execution_count": 263,
   "id": "98f71738",
   "metadata": {},
   "outputs": [],
   "source": [
    "from sklearn.mixture import GaussianMixture\n",
    "\n",
    "def gaussian(actual,predicted):\n",
    "\n",
    "    coords = np.nonzero(actual)\n",
    "    coords_actual = [(x,y) for (x,y) in zip(coords[0],coords[1])]\n",
    "\n",
    "    gm  =  GaussianMixture(n_components=5, random_state=0).fit(coords_actual)\n",
    "\n",
    "    score_actual = np.mean(np.abs(gm.score_samples(coords_actual)))\n",
    "\n",
    "    coords = np.nonzero(predicted)\n",
    "    coords_predicted = [(x,y) for (x,y) in zip(coords[0],coords[1])]\n",
    "    score_predicted = np.mean(np.abs(gm.score_samples(coords_predicted)))\n",
    "\n",
    "    return score_actual/score_predicted"
   ]
  },
  {
   "cell_type": "code",
   "execution_count": 264,
   "id": "9cdf4f0c",
   "metadata": {},
   "outputs": [],
   "source": [
    "actual = actual/255\n",
    "predicted = predicted/255"
   ]
  },
  {
   "cell_type": "code",
   "execution_count": 265,
   "id": "313f7814",
   "metadata": {},
   "outputs": [],
   "source": [
    "for i in range(0,448):\n",
    "      for j in range(0,448):\n",
    "        if actual[i][j]>=0.5:\n",
    "            actual[i][j] = 1\n",
    "        else:\n",
    "            actual[i][j] = 0\n",
    "\n",
    "for i in range(0,448):\n",
    "      for j in range(0,448):\n",
    "        if predicted[i][j]>=0.5:\n",
    "            predicted[i][j] = 1\n",
    "        else:\n",
    "            predicted[i][j] = 0"
   ]
  },
  {
   "cell_type": "code",
   "execution_count": 266,
   "id": "363aae87",
   "metadata": {},
   "outputs": [],
   "source": [
    "def averagejaccard(actual,predicted):\n",
    "    jac = jaccard_score(actual.flatten(), predicted.flatten())\n",
    "    jac_negative = jaccard_score(actual.flatten(), predicted.flatten(), pos_label = 0)\n",
    "    if jac==0:\n",
    "        av = jac_negative\n",
    "    elif jac_negative==0:\n",
    "        av = jac\n",
    "    else:\n",
    "        av = (jac+jac_negative)/2\n",
    "    return av"
   ]
  },
  {
   "cell_type": "code",
   "execution_count": 267,
   "id": "b6cb67a6",
   "metadata": {},
   "outputs": [],
   "source": [
    "def averagef1(actual,predicted):\n",
    "    f1 = f1_score(actual.flatten(), predicted.flatten(), zero_division=0)\n",
    "    f1_negative = f1_score(actual.flatten(), predicted.flatten(), pos_label = 0, zero_division=0)\n",
    "    if f1==0:\n",
    "        av = f1_negative\n",
    "    elif f1_negative==0:\n",
    "        av = f1\n",
    "    else:\n",
    "        av = (f1+f1_negative)/2\n",
    "    return av"
   ]
  },
  {
   "cell_type": "code",
   "execution_count": 268,
   "id": "d2384069",
   "metadata": {},
   "outputs": [],
   "source": [
    "iou = accuracy_score(actual.flatten(),predicted.flatten())\n",
    "f1 = f1_score(actual.flatten(),predicted.flatten())\n",
    "jac = jaccard_score(actual.flatten(),predicted.flatten())\n",
    "region = region_f1(actual,predicted)\n",
    "#gauss = gaussian(actual,predicted)\n",
    "f1mean = averagef1(actual,predicted)\n",
    "jacmean = averagejaccard(actual,predicted)"
   ]
  },
  {
   "cell_type": "code",
   "execution_count": 269,
   "id": "907aabc6",
   "metadata": {},
   "outputs": [
    {
     "data": {
      "text/plain": [
       "<matplotlib.image.AxesImage at 0x16300ad1e80>"
      ]
     },
     "execution_count": 269,
     "metadata": {},
     "output_type": "execute_result"
    },
    {
     "data": {
      "image/png": "[encoded data removed]",
      "text/plain": [
       "<Figure size 432x288 with 2 Axes>"
      ]
     },
     "metadata": {
      "needs_background": "light"
     },
     "output_type": "display_data"
    }
   ],
   "source": [
    "f, axs = plt.subplots(1,2)\n",
    "axs[0].imshow(actual,cmap='gray')\n",
    "axs[1].imshow(predicted,cmap='gray')"
   ]
  },
  {
   "cell_type": "code",
   "execution_count": 270,
   "id": "c47a053c",
   "metadata": {},
   "outputs": [
    {
     "name": "stdout",
     "output_type": "stream",
     "text": [
      "Iou is: 0.9999950175382653\n",
      "F1 is: 0.0\n",
      "Jaccard Score is: 0.0\n",
      "Region-F1 Score is: 0.0\n",
      "Average F1 is: 0.9999975087629264\n",
      "Average Jaccard is: 0.9999950175382653\n"
     ]
    }
   ],
   "source": [
    "print('Iou is:',iou)\n",
    "print('F1 is:',f1)\n",
    "print('Jaccard Score is:',jac)\n",
    "print('Region-F1 Score is:',region)\n",
    "#print('Gaussian is:',gauss)\n",
    "print('Average F1 is:',f1mean)\n",
    "print('Average Jaccard is:',jacmean)"
   ]
  },
  {
   "cell_type": "code",
   "execution_count": null,
   "id": "950ac581",
   "metadata": {},
   "outputs": [],
   "source": []
  },
  {
   "cell_type": "code",
   "execution_count": null,
   "id": "37d98e3f",
   "metadata": {},
   "outputs": [],
   "source": []
  },
  {
   "cell_type": "code",
   "execution_count": null,
   "id": "f52fde5e",
   "metadata": {},
   "outputs": [],
   "source": []
  }
 ],
 "metadata": {
  "kernelspec": {
   "display_name": "Python 3 (ipykernel)",
   "language": "python",
   "name": "python3"
  },
  "language_info": {
   "codemirror_mode": {
    "name": "ipython",
    "version": 3
   },
   "file_extension": ".py",
   "mimetype": "text/x-python",
   "name": "python",
   "nbconvert_exporter": "python",
   "pygments_lexer": "ipython3",
   "version": "3.8.8"
  }
 },
 "nbformat": 4,
 "nbformat_minor": 5
}
